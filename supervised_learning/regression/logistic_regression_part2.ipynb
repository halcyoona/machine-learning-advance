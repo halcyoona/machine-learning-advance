{
 "cells": [
  {
   "cell_type": "code",
   "execution_count": 1,
   "metadata": {},
   "outputs": [],
   "source": [
    "def weightInitialization(n_features):\n",
    "    w = np.zeros((1,n_features))\n",
    "    b = 0\n",
    "    return w,b\n",
    "\n",
    "\n",
    "def sigmoid_activation(result):\n",
    "    final_result = 1/(1+np.exp(-result))\n",
    "    return final_result\n",
    "\n",
    "def model_optimize(w, b, X, Y):\n",
    "    m = X.shape[0]\n",
    "    \n",
    "    #Prediction\n",
    "    final_result = sigmoid_activation(np.dot(w,X.T)+b)\n",
    "    Y_T = Y.T\n",
    "    cost = (-1/m)*(np.sum((Y_T*np.log(final_result)) + ((1-Y_T)*(np.log(1-final_result)))))\n",
    "    #\n",
    "    \n",
    "    #Gradient calculation\n",
    "    dw = (1/m)*(np.dot(X.T, (final_result-Y.T).T))\n",
    "    db = (1/m)*(np.sum(final_result-Y.T))\n",
    "    \n",
    "    grads = {\"dw\": dw, \"db\": db}\n",
    "    \n",
    "    return grads, cost\n",
    "\n",
    "\n",
    "def model_predict(w, b, X, Y, learning_rate, no_iterations):\n",
    "    costs = []\n",
    "    for i in range(no_iterations):\n",
    "        #\n",
    "        grads, cost = model_optimize(w,b,X,Y)\n",
    "        #\n",
    "        dw = grads[\"dw\"]\n",
    "        db = grads[\"db\"]\n",
    "        #weight update\n",
    "        w = w - (learning_rate * (dw.T))\n",
    "        b = b - (learning_rate * db)\n",
    "        #\n",
    "        \n",
    "        if (i % 100 == 0):\n",
    "            costs.append(cost)\n",
    "            #print(\"Cost after %i iteration is %f\" %(i, cost))\n",
    "    \n",
    "    #final parameters\n",
    "    coeff = {\"w\": w, \"b\": b}\n",
    "    gradient = {\"dw\": dw, \"db\": db}\n",
    "    \n",
    "    return coeff, gradient, costs\n",
    "\n",
    "\n",
    "def predict(final_pred, m):\n",
    "    y_pred = np.zeros((1,m))\n",
    "    for i in range(final_pred.shape[1]):\n",
    "        if final_pred[0][i] > 0.5:\n",
    "            y_pred[0][i] = 1\n",
    "    return y_pred"
   ]
  },
  {
   "cell_type": "code",
   "execution_count": 2,
   "metadata": {},
   "outputs": [],
   "source": [
    "import numpy as np\n",
    "import matplotlib.pyplot as plt"
   ]
  },
  {
   "cell_type": "code",
   "execution_count": 3,
   "metadata": {},
   "outputs": [],
   "source": [
    "import numpy as np\n",
    "import matplotlib.pyplot as plt\n",
    "X = 2 * np.random.rand(100, 1)\n",
    "y = 4 + 3 * X + np.random.randn(100, 1)"
   ]
  },
  {
   "cell_type": "code",
   "execution_count": 17,
   "metadata": {},
   "outputs": [],
   "source": [
    "w, b = weightInitialization(1)"
   ]
  },
  {
   "cell_type": "code",
   "execution_count": 18,
   "metadata": {},
   "outputs": [
    {
     "data": {
      "text/plain": [
       "array([[0.]])"
      ]
     },
     "execution_count": 18,
     "metadata": {},
     "output_type": "execute_result"
    }
   ],
   "source": [
    "w"
   ]
  },
  {
   "cell_type": "code",
   "execution_count": 19,
   "metadata": {},
   "outputs": [
    {
     "data": {
      "text/plain": [
       "0"
      ]
     },
     "execution_count": 19,
     "metadata": {},
     "output_type": "execute_result"
    }
   ],
   "source": [
    "b"
   ]
  },
  {
   "cell_type": "code",
   "execution_count": 20,
   "metadata": {},
   "outputs": [
    {
     "name": "stderr",
     "output_type": "stream",
     "text": [
      "<ipython-input-1-28633d000d66>:17: RuntimeWarning: divide by zero encountered in log\n",
      "  cost = (-1/m)*(np.sum((Y_T*np.log(final_result)) + ((1-Y_T)*(np.log(1-final_result)))))\n"
     ]
    },
    {
     "data": {
      "text/plain": [
       "({'w': array([[77.49486471]]), 'b': 62.57812121434333},\n",
       " {'dw': array([[-7.74190974]]), 'db': -6.2500371677165525},\n",
       " [0.6931471805599455])"
      ]
     },
     "execution_count": 20,
     "metadata": {},
     "output_type": "execute_result"
    }
   ],
   "source": [
    "model_predict(w, b, X, y, 0.1, 100)"
   ]
  },
  {
   "cell_type": "code",
   "execution_count": 23,
   "metadata": {},
   "outputs": [],
   "source": [
    "from sklearn import datasets\n",
    "iris = datasets.load_iris()\n",
    "list(iris.keys())\n",
    "\n",
    "X = iris[\"data\"][:, 3:] # petal width\n",
    "y = (iris[\"target\"] == 2).astype(np.int) # 1 if Iris-Virginica, else 0"
   ]
  },
  {
   "cell_type": "code",
   "execution_count": 24,
   "metadata": {},
   "outputs": [
    {
     "data": {
      "text/plain": [
       "['data', 'target_names', 'feature_names', 'target', 'DESCR']"
      ]
     },
     "execution_count": 24,
     "metadata": {},
     "output_type": "execute_result"
    }
   ],
   "source": [
    "['data', 'target_names', 'feature_names', 'target', 'DESCR']"
   ]
  },
  {
   "cell_type": "code",
   "execution_count": 27,
   "metadata": {},
   "outputs": [
    {
     "data": {
      "text/plain": [
       "({'w': array([[0.75168712]]), 'b': -1.2175032448021552},\n",
       " {'dw': array([[-0.06147926]]), 'db': 0.09478773918148684},\n",
       " [0.6931471805599454])"
      ]
     },
     "execution_count": 27,
     "metadata": {},
     "output_type": "execute_result"
    }
   ],
   "source": [
    "w, b = weightInitialization(1)\n",
    "model_predict(w, b, X, y, 0.1, 100)"
   ]
  },
  {
   "cell_type": "code",
   "execution_count": 28,
   "metadata": {},
   "outputs": [],
   "source": [
    "X_new = np.linspace(0, 3, 1000).reshape(-1, 1)"
   ]
  },
  {
   "cell_type": "code",
   "execution_count": null,
   "metadata": {},
   "outputs": [],
   "source": []
  }
 ],
 "metadata": {
  "kernelspec": {
   "display_name": "Python 3",
   "language": "python",
   "name": "python3"
  },
  "language_info": {
   "codemirror_mode": {
    "name": "ipython",
    "version": 3
   },
   "file_extension": ".py",
   "mimetype": "text/x-python",
   "name": "python",
   "nbconvert_exporter": "python",
   "pygments_lexer": "ipython3",
   "version": "3.8.2"
  }
 },
 "nbformat": 4,
 "nbformat_minor": 4
}
